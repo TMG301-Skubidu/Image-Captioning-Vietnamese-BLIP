{
 "cells": [
  {
   "cell_type": "markdown",
   "id": "019c1fe3",
   "metadata": {
    "papermill": {
     "duration": 0.003105,
     "end_time": "2025-10-27T08:55:32.276212",
     "exception": false,
     "start_time": "2025-10-27T08:55:32.273107",
     "status": "completed"
    },
    "tags": []
   },
   "source": [
    "# Intinal Setup"
   ]
  },
  {
   "cell_type": "code",
   "execution_count": 1,
   "id": "6a05dba7",
   "metadata": {
    "execution": {
     "iopub.execute_input": "2025-10-27T08:55:32.282588Z",
     "iopub.status.busy": "2025-10-27T08:55:32.282322Z",
     "iopub.status.idle": "2025-10-27T08:55:33.906940Z",
     "shell.execute_reply": "2025-10-27T08:55:33.906102Z"
    },
    "papermill": {
     "duration": 1.629301,
     "end_time": "2025-10-27T08:55:33.908225",
     "exception": false,
     "start_time": "2025-10-27T08:55:32.278924",
     "status": "completed"
    },
    "tags": []
   },
   "outputs": [
    {
     "name": "stdout",
     "output_type": "stream",
     "text": [
      "/kaggle/working/BLIP\n",
      "total 7380\n",
      "drwxr-xr-x 7 root root    4096 Oct 27 08:55 .\n",
      "drwxr-xr-x 3 root root    4096 Oct 27 08:55 ..\n",
      "-rw-r--r-- 1 root root 6707660 Oct 27 08:55 BLIP.gif\n",
      "-rw-r--r-- 1 root root    5159 Oct 27 08:55 CODE_OF_CONDUCT.md\n",
      "-rw-r--r-- 1 root root     140 Oct 27 08:55 CODEOWNERS\n",
      "-rw-r--r-- 1 root root     350 Oct 27 08:55 cog.yaml\n",
      "drwxr-xr-x 2 root root    4096 Oct 27 08:55 configs\n",
      "drwxr-xr-x 2 root root    4096 Oct 27 08:55 data\n",
      "-rw-r--r-- 1 root root  687080 Oct 27 08:55 demo.ipynb\n",
      "-rw-r--r-- 1 root root    4249 Oct 27 08:55 eval_nocaps.py\n",
      "-rw-r--r-- 1 root root    9531 Oct 27 08:55 eval_retrieval_video.py\n",
      "drwxr-xr-x 8 root root    4096 Oct 27 08:55 .git\n",
      "-rw-r--r-- 1 root root    1482 Oct 27 08:55 LICENSE.txt\n",
      "drwxr-xr-x 2 root root    4096 Oct 27 08:55 models\n",
      "-rw-r--r-- 1 root root    3796 Oct 27 08:55 predict.py\n",
      "-rw-r--r-- 1 root root    6666 Oct 27 08:55 pretrain.py\n",
      "-rw-r--r-- 1 root root    9544 Oct 27 08:55 README.md\n",
      "-rw-r--r-- 1 root root      65 Oct 27 08:55 requirements.txt\n",
      "-rw-r--r-- 1 root root     401 Oct 27 08:55 SECURITY.md\n",
      "-rw-r--r-- 1 root root    8388 Oct 27 08:55 train_caption.py\n",
      "-rw-r--r-- 1 root root    8060 Oct 27 08:55 train_nlvr.py\n",
      "-rw-r--r-- 1 root root   14091 Oct 27 08:55 train_retrieval.py\n",
      "-rw-r--r-- 1 root root    7751 Oct 27 08:55 train_vqa.py\n",
      "drwxr-xr-x 2 root root    4096 Oct 27 08:55 transform\n",
      "-rw-r--r-- 1 root root    8474 Oct 27 08:55 utils.py\n"
     ]
    },
    {
     "name": "stderr",
     "output_type": "stream",
     "text": [
      "Cloning into 'BLIP'...\n"
     ]
    }
   ],
   "source": [
    "%%bash\n",
    "cd /kaggle/working\n",
    "if [ ! -d BLIP ]; then\n",
    "  git clone https://github.com/salesforce/BLIP.git\n",
    "fi\n",
    "cd BLIP\n",
    "pwd\n",
    "ls -la"
   ]
  },
  {
   "cell_type": "markdown",
   "id": "4e5d24d2",
   "metadata": {
    "papermill": {
     "duration": 0.002364,
     "end_time": "2025-10-27T08:55:33.913441",
     "exception": false,
     "start_time": "2025-10-27T08:55:33.911077",
     "status": "completed"
    },
    "tags": []
   },
   "source": [
    "## Install Libraries"
   ]
  },
  {
   "cell_type": "code",
   "execution_count": 2,
   "id": "8f066d1b",
   "metadata": {
    "execution": {
     "iopub.execute_input": "2025-10-27T08:55:33.919164Z",
     "iopub.status.busy": "2025-10-27T08:55:33.918939Z",
     "iopub.status.idle": "2025-10-27T08:57:12.894880Z",
     "shell.execute_reply": "2025-10-27T08:57:12.894080Z"
    },
    "papermill": {
     "duration": 98.982934,
     "end_time": "2025-10-27T08:57:12.898865",
     "exception": false,
     "start_time": "2025-10-27T08:55:33.915931",
     "status": "completed"
    },
    "tags": []
   },
   "outputs": [
    {
     "name": "stdout",
     "output_type": "stream",
     "text": [
      "     ━━━━━━━━━━━━━━━━━━━━━━━━━━━━━━━━━━━━━━━ 235.4/235.4 kB 5.8 MB/s eta 0:00:00\n",
      "     ━━━━━━━━━━━━━━━━━━━━━━━━━━━━━━━━━━━━━━━ 113.6/113.6 kB 7.9 MB/s eta 0:00:00\n",
      "   ━━━━━━━━━━━━━━━━━━━━━━━━━━━━━━━━━━━━━━━━ 377.0/377.0 kB 15.0 MB/s eta 0:00:00\n",
      "   ━━━━━━━━━━━━━━━━━━━━━━━━━━━━━━━━━━━━━━━━ 7.2/7.2 MB 88.4 MB/s eta 0:00:00\n",
      "   ━━━━━━━━━━━━━━━━━━━━━━━━━━━━━━━━━━━━━━━━ 7.8/7.8 MB 117.7 MB/s eta 0:00:00\n",
      "   ━━━━━━━━━━━━━━━━━━━━━━━━━━━━━━━━━━━━━━━━ 566.1/566.1 kB 30.0 MB/s eta 0:00:00\n",
      "   ━━━━━━━━━━━━━━━━━━━━━━━━━━━━━━━━━━━━━━━━ 363.4/363.4 MB 4.7 MB/s eta 0:00:00\n",
      "   ━━━━━━━━━━━━━━━━━━━━━━━━━━━━━━━━━━━━━━━━ 13.8/13.8 MB 101.6 MB/s eta 0:00:00\n",
      "   ━━━━━━━━━━━━━━━━━━━━━━━━━━━━━━━━━━━━━━━━ 24.6/24.6 MB 78.4 MB/s eta 0:00:00\n",
      "   ━━━━━━━━━━━━━━━━━━━━━━━━━━━━━━━━━━━━━━━━ 883.7/883.7 kB 44.8 MB/s eta 0:00:00\n",
      "   ━━━━━━━━━━━━━━━━━━━━━━━━━━━━━━━━━━━━━━━━ 664.8/664.8 MB 2.3 MB/s eta 0:00:00\n",
      "   ━━━━━━━━━━━━━━━━━━━━━━━━━━━━━━━━━━━━━━━━ 211.5/211.5 MB 1.9 MB/s eta 0:00:00\n",
      "   ━━━━━━━━━━━━━━━━━━━━━━━━━━━━━━━━━━━━━━━━ 56.3/56.3 MB 31.9 MB/s eta 0:00:00\n",
      "   ━━━━━━━━━━━━━━━━━━━━━━━━━━━━━━━━━━━━━━━━ 127.9/127.9 MB 13.6 MB/s eta 0:00:00\n",
      "   ━━━━━━━━━━━━━━━━━━━━━━━━━━━━━━━━━━━━━━━━ 207.5/207.5 MB 8.4 MB/s eta 0:00:00\n",
      "   ━━━━━━━━━━━━━━━━━━━━━━━━━━━━━━━━━━━━━━━━ 21.1/21.1 MB 86.7 MB/s eta 0:00:00\n",
      "   ━━━━━━━━━━━━━━━━━━━━━━━━━━━━━━━━━━━━━━━━ 109.5/109.5 kB 2.3 MB/s eta 0:00:00\n",
      "CUDA: True\n",
      "GPU: Tesla P100-PCIE-16GB\n",
      "ruamel.yaml: 0.17.21\n",
      "PyYAML: 6.0.3\n"
     ]
    },
    {
     "name": "stderr",
     "output_type": "stream",
     "text": [
      "ERROR: pip's dependency resolver does not currently take into account all the packages that are installed. This behaviour is the source of the following dependency conflicts.\n",
      "datasets 4.1.1 requires pyarrow>=21.0.0, but you have pyarrow 19.0.1 which is incompatible.\n",
      "kaggle-environments 1.18.0 requires transformers>=4.33.1, but you have transformers 4.30.2 which is incompatible.\n",
      "sentence-transformers 4.1.0 requires transformers<5.0.0,>=4.41.0, but you have transformers 4.30.2 which is incompatible.\n",
      "libcugraph-cu12 25.6.0 requires libraft-cu12==25.6.*, but you have libraft-cu12 25.2.0 which is incompatible.\n",
      "gradio 5.38.1 requires pydantic<2.12,>=2.0, but you have pydantic 2.12.0a1 which is incompatible.\n",
      "pylibcugraph-cu12 25.6.0 requires pylibraft-cu12==25.6.*, but you have pylibraft-cu12 25.2.0 which is incompatible.\n",
      "pylibcugraph-cu12 25.6.0 requires rmm-cu12==25.6.*, but you have rmm-cu12 25.2.0 which is incompatible.\n"
     ]
    }
   ],
   "source": [
    "%%bash\n",
    "set -euo pipefail\n",
    "cd /kaggle/working/BLIP\n",
    "\n",
    "pip install -q timm==0.4.12 fairscale==0.4.4 transformers==4.30.2 tokenizers==0.13.3\n",
    "pip install -q pyyaml ruamel.yaml==0.17.21 tqdm\n",
    "python - <<'PY'\n",
    "import torch, ruamel.yaml, yaml\n",
    "print(\"CUDA:\", torch.cuda.is_available())\n",
    "if torch.cuda.is_available():\n",
    "    print(\"GPU:\", torch.cuda.get_device_name(0))\n",
    "print(\"ruamel.yaml:\", ruamel.yaml.__version__)\n",
    "print(\"PyYAML:\", yaml.__version__)\n",
    "PY"
   ]
  },
  {
   "cell_type": "code",
   "execution_count": 3,
   "id": "c63d9e42",
   "metadata": {
    "execution": {
     "iopub.execute_input": "2025-10-27T08:57:12.905361Z",
     "iopub.status.busy": "2025-10-27T08:57:12.904708Z",
     "iopub.status.idle": "2025-10-27T08:57:17.933522Z",
     "shell.execute_reply": "2025-10-27T08:57:17.932763Z"
    },
    "papermill": {
     "duration": 5.033222,
     "end_time": "2025-10-27T08:57:17.934782",
     "exception": false,
     "start_time": "2025-10-27T08:57:12.901560",
     "status": "completed"
    },
    "tags": []
   },
   "outputs": [
    {
     "name": "stdout",
     "output_type": "stream",
     "text": [
      "   ━━━━━━━━━━━━━━━━━━━━━━━━━━━━━━━━━━━━━━━━ 104.3/104.3 MB 17.1 MB/s eta 0:00:00\n"
     ]
    }
   ],
   "source": [
    "%%bash\n",
    "pip install -q pycocoevalcap || pip install -q git+https://github.com/salaniz/pycocoevalcap"
   ]
  },
  {
   "cell_type": "markdown",
   "id": "f0aa367a",
   "metadata": {
    "papermill": {
     "duration": 0.003095,
     "end_time": "2025-10-27T08:57:17.940842",
     "exception": false,
     "start_time": "2025-10-27T08:57:17.937747",
     "status": "completed"
    },
    "tags": []
   },
   "source": [
    "## Download Checkpoint"
   ]
  },
  {
   "cell_type": "code",
   "execution_count": 4,
   "id": "e0bb7da9",
   "metadata": {
    "execution": {
     "iopub.execute_input": "2025-10-27T08:57:17.947200Z",
     "iopub.status.busy": "2025-10-27T08:57:17.946726Z",
     "iopub.status.idle": "2025-10-27T08:59:47.901424Z",
     "shell.execute_reply": "2025-10-27T08:59:47.900659Z"
    },
    "papermill": {
     "duration": 149.960699,
     "end_time": "2025-10-27T08:59:47.904288",
     "exception": false,
     "start_time": "2025-10-27T08:57:17.943589",
     "status": "completed"
    },
    "tags": []
   },
   "outputs": [
    {
     "name": "stdout",
     "output_type": "stream",
     "text": [
      "total 4.4G\n",
      "-rw-r--r-- 1 root root 855M Mar  2  2022 model_base_caption_capfilt_large.pth\n",
      "-rw-r--r-- 1 root root 1.8G Jan 17  2022 model_base_retrieval_coco.pth\n",
      "-rw-r--r-- 1 root root 1.8G Jan 17  2022 model_base_retrieval_flickr.pth\n"
     ]
    },
    {
     "name": "stderr",
     "output_type": "stream",
     "text": [
      "2025-10-27 08:58:18 URL:https://storage.googleapis.com/sfr-vision-language-research/BLIP/models/model_base_retrieval_flickr.pth [1908759703/1908759703] -> \"checkpoints/model_base_retrieval_flickr.pth\" [1]\n",
      "2025-10-27 08:59:19 URL:https://storage.googleapis.com/sfr-vision-language-research/BLIP/models/model_base_retrieval_coco.pth [1908759703/1908759703] -> \"checkpoints/model_base_retrieval_coco.pth\" [1]\n",
      "2025-10-27 08:59:47 URL:https://storage.googleapis.com/sfr-vision-language-research/BLIP/models/model_base_caption_capfilt_large.pth [896081425/896081425] -> \"checkpoints/model_base_caption_capfilt_large.pth\" [1]\n"
     ]
    }
   ],
   "source": [
    "%%bash\n",
    "set -euo pipefail\n",
    "cd /kaggle/working/BLIP\n",
    "mkdir -p checkpoints\n",
    "wget -nv -P checkpoints https://storage.googleapis.com/sfr-vision-language-research/BLIP/models/model_base_retrieval_flickr.pth\n",
    "# (Keep others ready if needed later)\n",
    "wget -nv -P checkpoints https://storage.googleapis.com/sfr-vision-language-research/BLIP/models/model_base_retrieval_coco.pth\n",
    "wget -nv -P checkpoints https://storage.googleapis.com/sfr-vision-language-research/BLIP/models/model_base_caption_capfilt_large.pth\n",
    "ls -lh checkpoints"
   ]
  },
  {
   "cell_type": "markdown",
   "id": "38a8cc75",
   "metadata": {
    "papermill": {
     "duration": 0.002638,
     "end_time": "2025-10-27T08:59:47.909976",
     "exception": false,
     "start_time": "2025-10-27T08:59:47.907338",
     "status": "completed"
    },
    "tags": []
   },
   "source": [
    "## Update YAML"
   ]
  },
  {
   "cell_type": "code",
   "execution_count": 5,
   "id": "72664b4f",
   "metadata": {
    "execution": {
     "iopub.execute_input": "2025-10-27T08:59:47.916447Z",
     "iopub.status.busy": "2025-10-27T08:59:47.916057Z",
     "iopub.status.idle": "2025-10-27T08:59:47.940641Z",
     "shell.execute_reply": "2025-10-27T08:59:47.939946Z"
    },
    "papermill": {
     "duration": 0.029085,
     "end_time": "2025-10-27T08:59:47.941765",
     "exception": false,
     "start_time": "2025-10-27T08:59:47.912680",
     "status": "completed"
    },
    "tags": []
   },
   "outputs": [],
   "source": [
    "from ruamel.yaml import YAML\n",
    "from pathlib import Path\n",
    "\n",
    "yaml = YAML()\n",
    "cfg_path = Path(\"/kaggle/working/BLIP/configs/retrieval_flickr.yaml\")\n",
    "\n",
    "data = yaml.load(cfg_path.read_text())\n",
    "\n",
    "data[\"image_root\"] = \"/kaggle/working/\"\n",
    "data[\"ann_root\"] = \"/kaggle/working/annotation\"\n",
    "data[\"pretrained\"] = \"checkpoints/model_base_retrieval_flickr.pth\"\n",
    "\n",
    "with cfg_path.open(\"w\", encoding=\"utf-8\") as f:\n",
    "    yaml.dump(data, f)\n"
   ]
  },
  {
   "cell_type": "code",
   "execution_count": 6,
   "id": "4dd2a43b",
   "metadata": {
    "execution": {
     "iopub.execute_input": "2025-10-27T08:59:47.948020Z",
     "iopub.status.busy": "2025-10-27T08:59:47.947814Z",
     "iopub.status.idle": "2025-10-27T08:59:47.958308Z",
     "shell.execute_reply": "2025-10-27T08:59:47.957611Z"
    },
    "papermill": {
     "duration": 0.014924,
     "end_time": "2025-10-27T08:59:47.959439",
     "exception": false,
     "start_time": "2025-10-27T08:59:47.944515",
     "status": "completed"
    },
    "tags": []
   },
   "outputs": [],
   "source": [
    "%%bash\n",
    "cd /kaggle/working/BLIP\n",
    "cat <<'PY' > ruamel_yaml.py\n",
    "from ruamel import yaml as _yaml\n",
    "\n",
    "__all__ = [name for name in dir(_yaml) if not name.startswith('_')]\n",
    "globals().update({name: getattr(_yaml, name) for name in __all__})\n",
    "PY"
   ]
  },
  {
   "cell_type": "code",
   "execution_count": 7,
   "id": "0f8de886",
   "metadata": {
    "execution": {
     "iopub.execute_input": "2025-10-27T08:59:47.965451Z",
     "iopub.status.busy": "2025-10-27T08:59:47.965265Z",
     "iopub.status.idle": "2025-10-27T08:59:47.981060Z",
     "shell.execute_reply": "2025-10-27T08:59:47.980429Z"
    },
    "papermill": {
     "duration": 0.019977,
     "end_time": "2025-10-27T08:59:47.982099",
     "exception": false,
     "start_time": "2025-10-27T08:59:47.962122",
     "status": "completed"
    },
    "tags": []
   },
   "outputs": [
    {
     "name": "stdout",
     "output_type": "stream",
     "text": [
      "lrwxrwxrwx 1 root root 40 Oct 27 08:59 flickr30k-images -> /kaggle/input/flickr30k/flickr30k_images\n"
     ]
    },
    {
     "name": "stderr",
     "output_type": "stream",
     "text": [
      "+ cd /kaggle/working\n",
      "+ rm -f flickr30k-images\n",
      "+ ln -s /kaggle/input/flickr30k/flickr30k_images flickr30k-images\n",
      "+ ls -ld flickr30k-images\n"
     ]
    }
   ],
   "source": [
    "%%bash\n",
    "set -euxo pipefail\n",
    "cd /kaggle/working\n",
    "rm -f flickr30k-images            # in case a stale link exists\n",
    "ln -s /kaggle/input/flickr30k/flickr30k_images flickr30k-images\n",
    "ls -ld flickr30k-images"
   ]
  },
  {
   "cell_type": "code",
   "execution_count": 8,
   "id": "711836ca",
   "metadata": {
    "execution": {
     "iopub.execute_input": "2025-10-27T08:59:47.988341Z",
     "iopub.status.busy": "2025-10-27T08:59:47.988141Z",
     "iopub.status.idle": "2025-10-27T08:59:47.996487Z",
     "shell.execute_reply": "2025-10-27T08:59:47.995947Z"
    },
    "papermill": {
     "duration": 0.01252,
     "end_time": "2025-10-27T08:59:47.997503",
     "exception": false,
     "start_time": "2025-10-27T08:59:47.984983",
     "status": "completed"
    },
    "tags": []
   },
   "outputs": [
    {
     "name": "stdout",
     "output_type": "stream",
     "text": [
      "lrwxrwxrwx 1 root root 40 Oct 27 08:59 /kaggle/working/flickr30k-images -> /kaggle/input/flickr30k/flickr30k_images\n"
     ]
    }
   ],
   "source": [
    "%%bash\n",
    "ls -ld /kaggle/working/flickr30k-images"
   ]
  },
  {
   "cell_type": "markdown",
   "id": "c13cb645",
   "metadata": {
    "papermill": {
     "duration": 0.002634,
     "end_time": "2025-10-27T08:59:48.002930",
     "exception": false,
     "start_time": "2025-10-27T08:59:48.000296",
     "status": "completed"
    },
    "tags": []
   },
   "source": [
    "# Retrieval Flickr30k"
   ]
  },
  {
   "cell_type": "code",
   "execution_count": null,
   "id": "1dfd9664",
   "metadata": {
    "execution": {
     "iopub.execute_input": "2025-10-27T08:59:48.009133Z",
     "iopub.status.busy": "2025-10-27T08:59:48.008957Z",
     "iopub.status.idle": "2025-10-27T08:59:48.110643Z",
     "shell.execute_reply": "2025-10-27T08:59:48.110109Z"
    },
    "papermill": {
     "duration": 0.105975,
     "end_time": "2025-10-27T08:59:48.111648",
     "exception": false,
     "start_time": "2025-10-27T08:59:48.005673",
     "status": "completed"
    },
    "tags": []
   },
   "outputs": [
    {
     "name": "stdout",
     "output_type": "stream",
     "text": [
      "train_retrieval.py patched.\n"
     ]
    }
   ],
   "source": [
    "%%python\n",
    "from pathlib import Path\n",
    "\n",
    "path = Path(\"/kaggle/working/BLIP/train_retrieval.py\")\n",
    "text = path.read_text()\n",
    "\n",
    "old = \"\"\"for i,sims in enumerate(metric_logger.log_every(sims_matrix[start:end], 50, header)): \n",
    "        \n",
    "        topk_sim, topk_idx = sims.topk(k=config['k_test'], dim=0)\n",
    "        encoder_output = image_feats[topk_idx].to(device)\n",
    "        encoder_att = torch.ones(encoder_output.size()[:-1],dtype=torch.long).to(device)\n",
    "        output = model.text_encoder(text_ids[start+i].repeat(config['k_test'],1), \n",
    "                                    attention_mask = text_atts[start+i].repeat(config['k_test'],1),\n",
    "                                    encoder_hidden_states = encoder_output,\n",
    "                                    encoder_attention_mask = encoder_att,                             \n",
    "                                    return_dict = True,\n",
    "                                   )\n",
    "        score = model.itm_head(output.last_hidden_state[:,0,:])[:,1]\n",
    "        score_matrix_t2i[start+i,topk_idx] = score + topk_sim\n",
    "\"\"\"\n",
    "new = \"\"\"for i,sims in enumerate(metric_logger.log_every(sims_matrix[start:end], 50, header)): \n",
    "        \n",
    "        topk_sim, topk_idx = sims.topk(k=config['k_test'], dim=0)\n",
    "        topk_idx_cpu = topk_idx.cpu()  # image_feats lives on CPU\n",
    "        encoder_output = image_feats[topk_idx_cpu].to(device)\n",
    "        encoder_att = torch.ones(encoder_output.size()[:-1],dtype=torch.long).to(device)\n",
    "        output = model.text_encoder(text_ids[start+i].repeat(config['k_test'],1), \n",
    "                                    attention_mask = text_atts[start+i].repeat(config['k_test'],1),\n",
    "                                    encoder_hidden_states = encoder_output,\n",
    "                                    encoder_attention_mask = encoder_att,                             \n",
    "                                    return_dict = True,\n",
    "                                   )\n",
    "        score = model.itm_head(output.last_hidden_state[:,0,:])[:,1]\n",
    "        score_matrix_t2i[start+i,topk_idx] = score + topk_sim\n",
    "\"\"\"\n",
    "assert old in text, \"Patch target not found—repo version changed?\"\n",
    "path.write_text(text.replace(old, new, 1))\n",
    "print(\"Patched train_retrieval.py for Kaggle runtime.\")\n"
   ]
  },
  {
   "cell_type": "code",
   "execution_count": 10,
   "id": "ad9f255e",
   "metadata": {
    "execution": {
     "iopub.execute_input": "2025-10-27T08:59:48.118421Z",
     "iopub.status.busy": "2025-10-27T08:59:48.118226Z",
     "iopub.status.idle": "2025-10-27T09:10:58.590122Z",
     "shell.execute_reply": "2025-10-27T09:10:58.589147Z"
    },
    "papermill": {
     "duration": 670.476506,
     "end_time": "2025-10-27T09:10:58.591249",
     "exception": true,
     "start_time": "2025-10-27T08:59:48.114743",
     "status": "failed"
    },
    "tags": []
   },
   "outputs": [
    {
     "name": "stdout",
     "output_type": "stream",
     "text": [
      "Not using distributed mode\n",
      "Creating retrieval dataset\n",
      "100%|██████████| 20.7M/20.7M [00:01<00:00, 14.1MB/s]\n",
      "100%|██████████| 404k/404k [00:00<00:00, 771kB/s]\n",
      "100%|██████████| 397k/397k [00:00<00:00, 732kB/s]\n",
      "Creating model\n",
      "load checkpoint from checkpoints/model_base_retrieval_flickr.pth\n",
      "missing keys:\n",
      "[]\n",
      "Start training\n",
      "Computing features for evaluation...\n",
      "Evaluation:  [   0/1014]  eta: 0:02:53    time: 0.1712  data: 0.0016  max mem: 4571\n",
      "Evaluation:  [  50/1014]  eta: 0:09:12    time: 0.5831  data: 0.0000  max mem: 4571\n",
      "Evaluation:  [ 100/1014]  eta: 0:08:50    time: 0.5910  data: 0.0000  max mem: 4571\n",
      "Evaluation:  [ 150/1014]  eta: 0:08:24    time: 0.5922  data: 0.0000  max mem: 4571\n",
      "Evaluation:  [ 200/1014]  eta: 0:07:57    time: 0.5958  data: 0.0000  max mem: 4571\n",
      "Evaluation:  [ 250/1014]  eta: 0:07:29    time: 0.5959  data: 0.0000  max mem: 4571\n",
      "Evaluation:  [ 300/1014]  eta: 0:07:01    time: 0.5957  data: 0.0000  max mem: 4571\n",
      "Evaluation:  [ 350/1014]  eta: 0:06:32    time: 0.5958  data: 0.0000  max mem: 4571\n",
      "Evaluation:  [ 400/1014]  eta: 0:06:03    time: 0.5961  data: 0.0000  max mem: 4571\n",
      "Evaluation:  [ 450/1014]  eta: 0:05:33    time: 0.5959  data: 0.0000  max mem: 4571\n",
      "Evaluation:  [ 500/1014]  eta: 0:05:04    time: 0.5961  data: 0.0000  max mem: 4571\n",
      "Evaluation:  [ 550/1014]  eta: 0:04:35    time: 0.5956  data: 0.0000  max mem: 4571\n",
      "Evaluation:  [ 600/1014]  eta: 0:04:05    time: 0.5959  data: 0.0000  max mem: 4571\n",
      "Evaluation:  [ 650/1014]  eta: 0:03:35    time: 0.5959  data: 0.0000  max mem: 4571\n",
      "Evaluation:  [ 700/1014]  eta: 0:03:06    time: 0.5962  data: 0.0000  max mem: 4571\n",
      "Evaluation:  [ 750/1014]  eta: 0:02:36    time: 0.5966  data: 0.0000  max mem: 4571\n",
      "Evaluation:  [ 800/1014]  eta: 0:02:07    time: 0.5962  data: 0.0000  max mem: 4571\n",
      "Evaluation:  [ 850/1014]  eta: 0:01:37    time: 0.5964  data: 0.0000  max mem: 4571\n",
      "Evaluation:  [ 900/1014]  eta: 0:01:07    time: 0.5961  data: 0.0000  max mem: 4571\n",
      "Evaluation:  [ 950/1014]  eta: 0:00:38    time: 0.5964  data: 0.0000  max mem: 4571\n",
      "Evaluation:  [1000/1014]  eta: 0:00:08    time: 0.5964  data: 0.0000  max mem: 4571\n",
      "Evaluation:  [1013/1014]  eta: 0:00:00    time: 0.5962  data: 0.0000  max mem: 4571\n",
      "Evaluation: Total time: 0:10:02 (0.5944 s / it)\n",
      "Traceback (most recent call last):\n",
      "  File \"/kaggle/working/BLIP/train_retrieval.py\", line 345, in <module>\n",
      "    main(args, config)\n",
      "  File \"/kaggle/working/BLIP/train_retrieval.py\", line 278, in main\n",
      "    score_val_i2t, score_val_t2i, = evaluation(model_without_ddp, val_loader, device, config)\n",
      "                                    ^^^^^^^^^^^^^^^^^^^^^^^^^^^^^^^^^^^^^^^^^^^^^^^^^^^^^^^^^\n",
      "  File \"/usr/local/lib/python3.11/dist-packages/torch/utils/_contextlib.py\", line 116, in decorate_context\n",
      "    return func(*args, **kwargs)\n",
      "           ^^^^^^^^^^^^^^^^^^^^^\n",
      "  File \"/kaggle/working/BLIP/train_retrieval.py\", line 146, in evaluation\n",
      "    encoder_output = image_feats[topk_idx].to(device)\n",
      "                     ~~~~~~~~~~~^^^^^^^^^^\n",
      "RuntimeError: indices should be either on cpu or on the same device as the indexed tensor (cpu)\n"
     ]
    },
    {
     "name": "stderr",
     "output_type": "stream",
     "text": [
      "+ cd /kaggle/working/BLIP\n",
      "+ mkdir -p /kaggle/working/annotation\n",
      "+ mkdir -p output/retrieval_flickr\n",
      "+ unset RANK WORLD_SIZE LOCAL_RANK MASTER_ADDR MASTER_PORT\n",
      "+ CUDA_VISIBLE_DEVICES=0\n",
      "+ python train_retrieval.py --config ./configs/retrieval_flickr.yaml --output_dir output/retrieval_flickr --evaluate\n",
      "+ tee output/retrieval_flickr/stdout_stderr.log\n"
     ]
    },
    {
     "ename": "CalledProcessError",
     "evalue": "Command 'b'set -euxo pipefail\\ncd /kaggle/working/BLIP\\nmkdir -p /kaggle/working/annotation\\nmkdir -p output/retrieval_flickr\\nunset RANK WORLD_SIZE LOCAL_RANK MASTER_ADDR MASTER_PORT\\nCUDA_VISIBLE_DEVICES=0 python train_retrieval.py \\\\\\n  --config ./configs/retrieval_flickr.yaml \\\\\\n  --output_dir output/retrieval_flickr \\\\\\n  --evaluate 2>&1 | tee output/retrieval_flickr/stdout_stderr.log\\n'' returned non-zero exit status 1.",
     "output_type": "error",
     "traceback": [
      "\u001b[0;31m---------------------------------------------------------------------------\u001b[0m",
      "\u001b[0;31mCalledProcessError\u001b[0m                        Traceback (most recent call last)",
      "\u001b[0;32m/tmp/ipykernel_19/164614723.py\u001b[0m in \u001b[0;36m<cell line: 0>\u001b[0;34m()\u001b[0m\n\u001b[0;32m----> 1\u001b[0;31m \u001b[0mget_ipython\u001b[0m\u001b[0;34m(\u001b[0m\u001b[0;34m)\u001b[0m\u001b[0;34m.\u001b[0m\u001b[0mrun_cell_magic\u001b[0m\u001b[0;34m(\u001b[0m\u001b[0;34m'bash'\u001b[0m\u001b[0;34m,\u001b[0m \u001b[0;34m''\u001b[0m\u001b[0;34m,\u001b[0m \u001b[0;34m'set -euxo pipefail\\ncd /kaggle/working/BLIP\\nmkdir -p /kaggle/working/annotation\\nmkdir -p output/retrieval_flickr\\nunset RANK WORLD_SIZE LOCAL_RANK MASTER_ADDR MASTER_PORT\\nCUDA_VISIBLE_DEVICES=0 python train_retrieval.py \\\\\\n  --config ./configs/retrieval_flickr.yaml \\\\\\n  --output_dir output/retrieval_flickr \\\\\\n  --evaluate 2>&1 | tee output/retrieval_flickr/stdout_stderr.log\\n'\u001b[0m\u001b[0;34m)\u001b[0m\u001b[0;34m\u001b[0m\u001b[0;34m\u001b[0m\u001b[0m\n\u001b[0m",
      "\u001b[0;32m/usr/local/lib/python3.11/dist-packages/IPython/core/interactiveshell.py\u001b[0m in \u001b[0;36mrun_cell_magic\u001b[0;34m(self, magic_name, line, cell)\u001b[0m\n\u001b[1;32m   2471\u001b[0m             \u001b[0;32mwith\u001b[0m \u001b[0mself\u001b[0m\u001b[0;34m.\u001b[0m\u001b[0mbuiltin_trap\u001b[0m\u001b[0;34m:\u001b[0m\u001b[0;34m\u001b[0m\u001b[0;34m\u001b[0m\u001b[0m\n\u001b[1;32m   2472\u001b[0m                 \u001b[0margs\u001b[0m \u001b[0;34m=\u001b[0m \u001b[0;34m(\u001b[0m\u001b[0mmagic_arg_s\u001b[0m\u001b[0;34m,\u001b[0m \u001b[0mcell\u001b[0m\u001b[0;34m)\u001b[0m\u001b[0;34m\u001b[0m\u001b[0;34m\u001b[0m\u001b[0m\n\u001b[0;32m-> 2473\u001b[0;31m                 \u001b[0mresult\u001b[0m \u001b[0;34m=\u001b[0m \u001b[0mfn\u001b[0m\u001b[0;34m(\u001b[0m\u001b[0;34m*\u001b[0m\u001b[0margs\u001b[0m\u001b[0;34m,\u001b[0m \u001b[0;34m**\u001b[0m\u001b[0mkwargs\u001b[0m\u001b[0;34m)\u001b[0m\u001b[0;34m\u001b[0m\u001b[0;34m\u001b[0m\u001b[0m\n\u001b[0m\u001b[1;32m   2474\u001b[0m             \u001b[0;32mreturn\u001b[0m \u001b[0mresult\u001b[0m\u001b[0;34m\u001b[0m\u001b[0;34m\u001b[0m\u001b[0m\n\u001b[1;32m   2475\u001b[0m \u001b[0;34m\u001b[0m\u001b[0m\n",
      "\u001b[0;32m/usr/local/lib/python3.11/dist-packages/IPython/core/magics/script.py\u001b[0m in \u001b[0;36mnamed_script_magic\u001b[0;34m(line, cell)\u001b[0m\n\u001b[1;32m    140\u001b[0m             \u001b[0;32melse\u001b[0m\u001b[0;34m:\u001b[0m\u001b[0;34m\u001b[0m\u001b[0;34m\u001b[0m\u001b[0m\n\u001b[1;32m    141\u001b[0m                 \u001b[0mline\u001b[0m \u001b[0;34m=\u001b[0m \u001b[0mscript\u001b[0m\u001b[0;34m\u001b[0m\u001b[0;34m\u001b[0m\u001b[0m\n\u001b[0;32m--> 142\u001b[0;31m             \u001b[0;32mreturn\u001b[0m \u001b[0mself\u001b[0m\u001b[0;34m.\u001b[0m\u001b[0mshebang\u001b[0m\u001b[0;34m(\u001b[0m\u001b[0mline\u001b[0m\u001b[0;34m,\u001b[0m \u001b[0mcell\u001b[0m\u001b[0;34m)\u001b[0m\u001b[0;34m\u001b[0m\u001b[0;34m\u001b[0m\u001b[0m\n\u001b[0m\u001b[1;32m    143\u001b[0m \u001b[0;34m\u001b[0m\u001b[0m\n\u001b[1;32m    144\u001b[0m         \u001b[0;31m# write a basic docstring:\u001b[0m\u001b[0;34m\u001b[0m\u001b[0;34m\u001b[0m\u001b[0m\n",
      "\u001b[0;32m<decorator-gen-103>\u001b[0m in \u001b[0;36mshebang\u001b[0;34m(self, line, cell)\u001b[0m\n",
      "\u001b[0;32m/usr/local/lib/python3.11/dist-packages/IPython/core/magic.py\u001b[0m in \u001b[0;36m<lambda>\u001b[0;34m(f, *a, **k)\u001b[0m\n\u001b[1;32m    185\u001b[0m     \u001b[0;31m# but it's overkill for just that one bit of state.\u001b[0m\u001b[0;34m\u001b[0m\u001b[0;34m\u001b[0m\u001b[0m\n\u001b[1;32m    186\u001b[0m     \u001b[0;32mdef\u001b[0m \u001b[0mmagic_deco\u001b[0m\u001b[0;34m(\u001b[0m\u001b[0marg\u001b[0m\u001b[0;34m)\u001b[0m\u001b[0;34m:\u001b[0m\u001b[0;34m\u001b[0m\u001b[0;34m\u001b[0m\u001b[0m\n\u001b[0;32m--> 187\u001b[0;31m         \u001b[0mcall\u001b[0m \u001b[0;34m=\u001b[0m \u001b[0;32mlambda\u001b[0m \u001b[0mf\u001b[0m\u001b[0;34m,\u001b[0m \u001b[0;34m*\u001b[0m\u001b[0ma\u001b[0m\u001b[0;34m,\u001b[0m \u001b[0;34m**\u001b[0m\u001b[0mk\u001b[0m\u001b[0;34m:\u001b[0m \u001b[0mf\u001b[0m\u001b[0;34m(\u001b[0m\u001b[0;34m*\u001b[0m\u001b[0ma\u001b[0m\u001b[0;34m,\u001b[0m \u001b[0;34m**\u001b[0m\u001b[0mk\u001b[0m\u001b[0;34m)\u001b[0m\u001b[0;34m\u001b[0m\u001b[0;34m\u001b[0m\u001b[0m\n\u001b[0m\u001b[1;32m    188\u001b[0m \u001b[0;34m\u001b[0m\u001b[0m\n\u001b[1;32m    189\u001b[0m         \u001b[0;32mif\u001b[0m \u001b[0mcallable\u001b[0m\u001b[0;34m(\u001b[0m\u001b[0marg\u001b[0m\u001b[0;34m)\u001b[0m\u001b[0;34m:\u001b[0m\u001b[0;34m\u001b[0m\u001b[0;34m\u001b[0m\u001b[0m\n",
      "\u001b[0;32m/usr/local/lib/python3.11/dist-packages/IPython/core/magics/script.py\u001b[0m in \u001b[0;36mshebang\u001b[0;34m(self, line, cell)\u001b[0m\n\u001b[1;32m    243\u001b[0m             \u001b[0msys\u001b[0m\u001b[0;34m.\u001b[0m\u001b[0mstderr\u001b[0m\u001b[0;34m.\u001b[0m\u001b[0mflush\u001b[0m\u001b[0;34m(\u001b[0m\u001b[0;34m)\u001b[0m\u001b[0;34m\u001b[0m\u001b[0;34m\u001b[0m\u001b[0m\n\u001b[1;32m    244\u001b[0m         \u001b[0;32mif\u001b[0m \u001b[0margs\u001b[0m\u001b[0;34m.\u001b[0m\u001b[0mraise_error\u001b[0m \u001b[0;32mand\u001b[0m \u001b[0mp\u001b[0m\u001b[0;34m.\u001b[0m\u001b[0mreturncode\u001b[0m\u001b[0;34m!=\u001b[0m\u001b[0;36m0\u001b[0m\u001b[0;34m:\u001b[0m\u001b[0;34m\u001b[0m\u001b[0;34m\u001b[0m\u001b[0m\n\u001b[0;32m--> 245\u001b[0;31m             \u001b[0;32mraise\u001b[0m \u001b[0mCalledProcessError\u001b[0m\u001b[0;34m(\u001b[0m\u001b[0mp\u001b[0m\u001b[0;34m.\u001b[0m\u001b[0mreturncode\u001b[0m\u001b[0;34m,\u001b[0m \u001b[0mcell\u001b[0m\u001b[0;34m,\u001b[0m \u001b[0moutput\u001b[0m\u001b[0;34m=\u001b[0m\u001b[0mout\u001b[0m\u001b[0;34m,\u001b[0m \u001b[0mstderr\u001b[0m\u001b[0;34m=\u001b[0m\u001b[0merr\u001b[0m\u001b[0;34m)\u001b[0m\u001b[0;34m\u001b[0m\u001b[0;34m\u001b[0m\u001b[0m\n\u001b[0m\u001b[1;32m    246\u001b[0m \u001b[0;34m\u001b[0m\u001b[0m\n\u001b[1;32m    247\u001b[0m     \u001b[0;32mdef\u001b[0m \u001b[0m_run_script\u001b[0m\u001b[0;34m(\u001b[0m\u001b[0mself\u001b[0m\u001b[0;34m,\u001b[0m \u001b[0mp\u001b[0m\u001b[0;34m,\u001b[0m \u001b[0mcell\u001b[0m\u001b[0;34m,\u001b[0m \u001b[0mto_close\u001b[0m\u001b[0;34m)\u001b[0m\u001b[0;34m:\u001b[0m\u001b[0;34m\u001b[0m\u001b[0;34m\u001b[0m\u001b[0m\n",
      "\u001b[0;31mCalledProcessError\u001b[0m: Command 'b'set -euxo pipefail\\ncd /kaggle/working/BLIP\\nmkdir -p /kaggle/working/annotation\\nmkdir -p output/retrieval_flickr\\nunset RANK WORLD_SIZE LOCAL_RANK MASTER_ADDR MASTER_PORT\\nCUDA_VISIBLE_DEVICES=0 python train_retrieval.py \\\\\\n  --config ./configs/retrieval_flickr.yaml \\\\\\n  --output_dir output/retrieval_flickr \\\\\\n  --evaluate 2>&1 | tee output/retrieval_flickr/stdout_stderr.log\\n'' returned non-zero exit status 1."
     ]
    }
   ],
   "source": [
    "%%bash\n",
    "set -euxo pipefail\n",
    "cd /kaggle/working/BLIP\n",
    "mkdir -p /kaggle/working/annotation\n",
    "mkdir -p output/retrieval_flickr\n",
    "unset RANK WORLD_SIZE LOCAL_RANK MASTER_ADDR MASTER_PORT\n",
    "CUDA_VISIBLE_DEVICES=0 python train_retrieval.py \\\n",
    "  --config ./configs/retrieval_flickr.yaml \\\n",
    "  --output_dir output/retrieval_flickr \\\n",
    "  --evaluate 2>&1 | tee output/retrieval_flickr/stdout_stderr.log"
   ]
  },
  {
   "cell_type": "code",
   "execution_count": null,
   "id": "7c0c721a",
   "metadata": {
    "execution": {
     "iopub.status.busy": "2025-10-27T08:42:15.291460Z",
     "iopub.status.idle": "2025-10-27T08:42:15.291713Z",
     "shell.execute_reply": "2025-10-27T08:42:15.291588Z",
     "shell.execute_reply.started": "2025-10-27T08:42:15.291576Z"
    },
    "papermill": {
     "duration": null,
     "end_time": null,
     "exception": null,
     "start_time": null,
     "status": "pending"
    },
    "tags": []
   },
   "outputs": [],
   "source": [
    "from pathlib import Path\n",
    "log = Path(\"/kaggle/working/BLIP/output/retrieval_flickr/stdout_stderr.log\")\n",
    "lines = log.read_text(errors=\"ignore\").splitlines()\n",
    "for line in lines:\n",
    "    if any(key in line for key in (\"txt_r1\",\"txt_r5\",\"txt_r10\",\"img_r1\",\"img_r5\",\"img_r10\")):\n",
    "        print(line)"
   ]
  }
 ],
 "metadata": {
  "kaggle": {
   "accelerator": "gpu",
   "dataSources": [
    {
     "datasetId": 857191,
     "sourceId": 1462296,
     "sourceType": "datasetVersion"
    },
    {
     "datasetId": 2808179,
     "sourceId": 4845244,
     "sourceType": "datasetVersion"
    }
   ],
   "dockerImageVersionId": 31154,
   "isGpuEnabled": true,
   "isInternetEnabled": true,
   "language": "python",
   "sourceType": "notebook"
  },
  "kernelspec": {
   "display_name": "Python 3",
   "language": "python",
   "name": "python3"
  },
  "language_info": {
   "codemirror_mode": {
    "name": "ipython",
    "version": 3
   },
   "file_extension": ".py",
   "mimetype": "text/x-python",
   "name": "python",
   "nbconvert_exporter": "python",
   "pygments_lexer": "ipython3",
   "version": "3.11.13"
  },
  "papermill": {
   "default_parameters": {},
   "duration": 930.156819,
   "end_time": "2025-10-27T09:10:58.810833",
   "environment_variables": {},
   "exception": true,
   "input_path": "__notebook__.ipynb",
   "output_path": "__notebook__.ipynb",
   "parameters": {},
   "start_time": "2025-10-27T08:55:28.654014",
   "version": "2.6.0"
  }
 },
 "nbformat": 4,
 "nbformat_minor": 5
}
